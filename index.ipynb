{
 "cells": [
  {
   "cell_type": "markdown",
   "metadata": {},
   "source": [
    "# Seaborn - Lab\n",
    "\n",
    "## Introduction\n",
    "\n",
    "In this lab, we'll get some practice working with a second, more advanced visualization library, **_Seaborn_**!\n",
    "\n",
    "## Objectives\n",
    "\n",
    "You will be able to:\n",
    "\n",
    "* Understand the relationship between Seaborn and Matplotlib, and when to use each \n",
    "* Create basic visualizations with Seaborn\n",
    "\n",
    "## Getting Started\n",
    "\n",
    "In this lab, we'll explore several different kinds of visualizations we can create with Seaborn. Seaborn is built on top of Matplotlib, so you'll find that it will feel quite familiar. \n",
    "\n",
    "Let's get started by importing some things and creating a toy dataset to work with for our first visualization. \n",
    "\n",
    "\n",
    "In the cell below: \n",
    "\n",
    "* Import `numpy` and set the standard alias of `np`\n",
    "* Import `seaborn` and set the standard alias of `sns`\n",
    "* Set `%matplotlib inline` so that our visualizations appear in the notebook, and not as separate files"
   ]
  },
  {
   "cell_type": "code",
   "execution_count": 3,
   "metadata": {},
   "outputs": [],
   "source": [
    "import numpy as np\n",
    "import seaborn as sns\n",
    "%matplotlib inline"
   ]
  },
  {
   "cell_type": "markdown",
   "metadata": {},
   "source": [
    "Great! Now, run the cell below to create a sample dataset. "
   ]
  },
  {
   "cell_type": "code",
   "execution_count": 4,
   "metadata": {},
   "outputs": [
    {
     "data": {
      "text/plain": [
       "array([[-1.43558773e+00,  1.31449886e-01,  2.03641068e+00,\n",
       "         4.13631685e-01,  6.21502507e-01,  4.13093432e+00,\n",
       "         1.97105586e+00,  2.59340105e+00,  4.09077174e+00,\n",
       "         4.47636096e+00],\n",
       "       [-3.06842961e-01,  1.48347610e+00,  2.44410492e-01,\n",
       "         5.98092061e-01,  2.92070552e+00,  1.48234904e+00,\n",
       "         3.31602688e+00,  2.55186295e+00,  4.93152514e+00,\n",
       "         3.15322310e+00],\n",
       "       [ 2.54016795e-03,  1.39469347e-01,  1.22070947e+00,\n",
       "         5.79008751e-01,  1.57304281e+00,  3.56376694e+00,\n",
       "         2.04082438e+00,  4.30819446e+00,  4.04165030e+00,\n",
       "         6.61434485e+00],\n",
       "       [ 2.34391549e-01,  1.96791088e+00,  1.39331261e+00,\n",
       "         3.05624760e+00,  2.44571100e+00,  1.61282581e+00,\n",
       "         4.39577707e+00,  3.37045409e+00,  3.66673151e+00,\n",
       "         4.95744636e+00],\n",
       "       [-3.99599234e-01,  5.00524958e-01,  6.60546881e-01,\n",
       "         1.05338426e+00,  3.04334260e+00,  3.43818282e+00,\n",
       "         3.16591498e+00,  4.05686883e+00,  4.41399452e+00,\n",
       "         4.51128683e+00],\n",
       "       [ 9.04473945e-01, -5.30320357e-01,  3.32694119e+00,\n",
       "         1.26002648e+00,  1.72100151e+00,  3.03016339e+00,\n",
       "         2.59829199e+00,  4.37638463e+00,  3.51205979e+00,\n",
       "         4.05439073e+00],\n",
       "       [ 1.39942162e-01, -1.47934939e-01,  1.10656835e+00,\n",
       "         8.69176969e-01,  9.62727414e-01,  2.54576870e+00,\n",
       "         3.76786534e+00,  4.45248675e+00,  4.41216867e+00,\n",
       "         5.05135970e+00],\n",
       "       [-2.30172165e+00, -5.22814149e-01,  1.21443313e+00,\n",
       "         2.79133384e+00,  2.08232755e+00,  1.32285396e+00,\n",
       "         2.88670434e+00,  2.95472887e+00,  4.10935075e+00,\n",
       "         3.67161923e+00],\n",
       "       [-6.33768173e-01,  7.31769038e-01,  2.03867278e-01,\n",
       "         1.91931511e+00,  3.24401155e+00,  2.48755834e+00,\n",
       "         1.24056725e+00,  3.17297471e+00,  5.13074276e+00,\n",
       "         5.85843915e+00],\n",
       "       [-1.34249085e+00, -5.17518004e-01,  7.88048328e-01,\n",
       "         6.72330058e-01,  2.47257303e+00,  2.95422119e+00,\n",
       "         8.05536775e-01,  3.59883184e+00,  5.29680056e-01,\n",
       "         5.14728351e+00],\n",
       "       [ 1.09777459e+00,  6.45992232e-01, -1.21411983e+00,\n",
       "         2.00025802e+00,  2.20542443e+00,  2.29480192e+00,\n",
       "         1.14868980e+00,  2.41953693e+00,  5.23562044e+00,\n",
       "         4.69270234e+00],\n",
       "       [-1.27713696e+00, -7.62616343e-02, -1.63080470e+00,\n",
       "         1.42579008e-02,  8.44177766e-01,  2.92122743e+00,\n",
       "         1.90290237e+00,  4.45716388e+00,  4.27309559e+00,\n",
       "         5.26442019e+00],\n",
       "       [-4.61077864e-01, -9.42858443e-02, -1.39749396e+00,\n",
       "         1.08318013e+00,  2.94907713e+00,  2.38902680e+00,\n",
       "         2.72969375e+00,  2.43309799e+00,  4.37303328e+00,\n",
       "         5.42934073e+00],\n",
       "       [ 6.95124805e-01,  1.40287545e+00,  1.54065509e-01,\n",
       "         3.38823934e-01,  1.77310806e+00,  5.03397558e+00,\n",
       "         3.95515023e+00,  2.86582957e+00,  2.88689038e+00,\n",
       "         4.82567930e+00],\n",
       "       [ 1.29545924e+00, -2.82899618e-01,  1.60273767e-01,\n",
       "         2.39892853e-01,  3.10913086e+00,  1.02637654e+00,\n",
       "         2.54713680e+00,  3.12128856e+00,  4.28266546e+00,\n",
       "         4.53864552e+00],\n",
       "       [ 1.11255391e-02, -1.32821649e+00, -4.75293362e-01,\n",
       "         9.29872664e-01,  2.21230817e+00,  1.01452306e+00,\n",
       "         2.78800669e+00,  2.44258706e+00,  4.05396430e+00,\n",
       "         3.70195017e+00],\n",
       "       [-1.67754141e+00, -1.23290489e+00,  4.47688720e-02,\n",
       "         2.92618810e+00,  1.22980370e+00,  2.86965055e+00,\n",
       "         2.49932902e+00,  3.42458801e+00,  4.03004722e+00,\n",
       "         5.12344842e+00],\n",
       "       [ 5.41501627e-02, -2.77440078e-02,  8.16779881e-01,\n",
       "         1.73732578e+00,  4.41829912e+00,  2.79031157e+00,\n",
       "         3.13218219e+00,  1.99575986e+00,  3.51590553e+00,\n",
       "         3.98742640e+00],\n",
       "       [-2.61152905e-01,  1.48769048e+00,  1.27768331e+00,\n",
       "         3.15978093e+00,  1.12786459e+00,  1.63708935e+00,\n",
       "         2.08536554e+00,  2.25361385e+00,  5.36815735e+00,\n",
       "         3.00031010e+00],\n",
       "       [-2.22918333e+00,  2.75514050e-01,  6.28822423e-01,\n",
       "         1.40296138e+00,  2.13105992e+00,  2.32345359e+00,\n",
       "         4.51707609e+00,  3.07984381e+00,  5.18869639e+00,\n",
       "         5.25454681e+00]])"
      ]
     },
     "execution_count": 4,
     "metadata": {},
     "output_type": "execute_result"
    }
   ],
   "source": [
    "data = np.random.normal(size=(20, 10)) + np.arange(10) / 2\n",
    "data[1]"
   ]
  },
  {
   "cell_type": "markdown",
   "metadata": {},
   "source": [
    "### Basic Visualiations with Seaborn\n",
    "\n",
    "We'll start off by creating a boxplot with the dataset we just created so that we can get a feel for the common workflow of Seaborn. \n",
    "\n",
    "In the cell below:\n",
    "\n",
    "* Create a `boxplot` and pass in the parameter `data=data`. Store the object returned in the variable `boxplot`"
   ]
  },
  {
   "cell_type": "code",
   "execution_count": null,
   "metadata": {},
   "outputs": [],
   "source": [
    "boxplot = None"
   ]
  },
  {
   "cell_type": "markdown",
   "metadata": {},
   "source": [
    "That's a nice looking visualization, for only a single line of code! However, it's missing axis labels and a title. Let's fix that. \n",
    "\n",
    "In the cell below: \n",
    "\n",
    "* Copy and paste the code from the cell above to recreate our boxplot\n",
    "* Call the `boxplot` object's `set()` method and pass in the following parameters:\n",
    "    * `xlabel= 'X Label'`\n",
    "    * `ylabel= 'Y Label'`\n",
    "    * `title = 'Example Boxplot'`    "
   ]
  },
  {
   "cell_type": "code",
   "execution_count": null,
   "metadata": {},
   "outputs": [],
   "source": [
    "boxplot = None\n"
   ]
  },
  {
   "cell_type": "markdown",
   "metadata": {},
   "source": [
    "That wasn't too bad! Note that we can also use **_Method Chaining_** to set all the label and title information by combining the two lines in the cell above!\n",
    "\n",
    "In the cell below:\n",
    "\n",
    "* Recreate the labeled boxplot by calling `.set()` and passing in the appropriate parameter values immediately after calling `sns.boxplot(data=data)` to create the visualization. \n",
    "\n",
    "**_NOTE_**: For this visualization, you do not need to store the object in a variable. Just call the methods."
   ]
  },
  {
   "cell_type": "code",
   "execution_count": null,
   "metadata": {},
   "outputs": [],
   "source": []
  },
  {
   "cell_type": "markdown",
   "metadata": {},
   "source": [
    "Great! As you can see, Seaborn is a pretty easy library to work with. It also has very detailed and easy-to-follow documentation, complete with a ton of examples and tutorials. If you're ever unsure of how to build something, don't be afraid to look at the [Seaborn Documentation](https://seaborn.pydata.org/), or Google!\n",
    "\n",
    "### Changing Style and Context\n",
    "\n",
    "One of the main reasons Data Scientists love Seaborn is because the visualizations it creates are just plain prettier than those made by matplotlib. Seaborn makes it very simple to style our visualizations--all we need to do is use the `set_style()` method!\n",
    "\n",
    "In the cell below:\n",
    "\n",
    "* Call Seaborn's `set_style()` method and pass in the string `'darkgrid'`. \n",
    "* Recreate the labeled boxplot that we made in the cell above. "
   ]
  },
  {
   "cell_type": "code",
   "execution_count": null,
   "metadata": {
    "scrolled": true
   },
   "outputs": [],
   "source": []
  },
  {
   "cell_type": "markdown",
   "metadata": {},
   "source": [
    "That's much easier to read! There are several different styles that we can choose from. To see examples of the different styles we can use, check out the [documentation](https://seaborn.pydata.org/tutorial/aesthetics.html) for controlling figure aesthetics.\n",
    "\n",
    "Before we move on, let's make one more change. While the plot looks much better now, the size of the text for ticks and axis labels so small that it would be hard for people to read it unless they're right in front of the monitor--that's a problem, if the visualizations are going to be used in something like a tech talk or presentation!\n",
    "\n",
    "For this reason, we can also set the context, using the--you guessed it--`set_context()` method!\n",
    "\n",
    "In the cell below:\n",
    "\n",
    "* Call Seaborn's `set_context()` method and pass in the string `'poster'`.\n",
    "* Recreate the labeled boxplot that we made in the cell above."
   ]
  },
  {
   "cell_type": "code",
   "execution_count": null,
   "metadata": {},
   "outputs": [],
   "source": []
  },
  {
   "cell_type": "markdown",
   "metadata": {},
   "source": [
    "Much better! That's much more readable. From smallest to largest, the different context settings we can use are `'paper'`, `'notebook'`, `'talk'`, and `'poster'`. \n",
    "\n",
    "### A  Quick Note on Contexts and Styles\n",
    "\n",
    "When you call `set_context` or `set_style`, you're setting a global parameter that will apply to all future plots you create during this session. Any visualizations you have already created will not change--however, they will change if you rerun the cell that created them! \n",
    "\n",
    "Let's change our context back to `'notebook'` so that the next visualizations we create don't look too big. \n",
    "\n",
    "In the cell below, change the context back to `'notebook'`."
   ]
  },
  {
   "cell_type": "code",
   "execution_count": null,
   "metadata": {},
   "outputs": [],
   "source": []
  },
  {
   "cell_type": "markdown",
   "metadata": {},
   "source": [
    "## More Advanced Visualizations\n",
    "\n",
    "One awesome feature of Seaborn is the ability to quickly and easily create advanced visualizations such as **_Regression Plots_**. To end this lab, we'll see a few examples, and explore how they are created. \n",
    "\n",
    "### Regression Lines with Confidence Intervals\n",
    "\n",
    "There are also several different types of regression plots Seaborn makes available for this purpose. For this example, we're going to create an advanced regression plot that also visualizes the confidence interval for our regression line. We'll even have the visualization **_condition on_** a 3rd variable, to show how the regression lines differ for each group, depending on the value of the 3rd variable. \n",
    "\n",
    "For this visualization, we'll need a more advanced dataset than the example we created and used above. Luckily, Seaborn comes with some preloaded datasets. We can see the names of all the datasets by calling Seaborn's `get_dataset_names()` method. \n",
    "\n",
    "Do this now in the cell below."
   ]
  },
  {
   "cell_type": "code",
   "execution_count": null,
   "metadata": {},
   "outputs": [],
   "source": []
  },
  {
   "cell_type": "markdown",
   "metadata": {},
   "source": [
    "Great! For the reamainder of this notebook, we'll use the `'tips'` dataset. We can get this dataset by calling Seaborn's `load_dataset()` method and passing in the string `'tips'`. Seaborn is even considerate enough to return the dataset as a pandas DataFrame!\n",
    "\n",
    "In the cell below, get the tips dataset and store it in the variable `tips`. Then, display the head of the DataFrame so we can see what we're working with. "
   ]
  },
  {
   "cell_type": "code",
   "execution_count": null,
   "metadata": {},
   "outputs": [],
   "source": [
    "tips = None\n"
   ]
  },
  {
   "cell_type": "markdown",
   "metadata": {},
   "source": [
    "Now that we have our dataset, we can create our regression plot. There are several kinds of regression plots we can use. For this example, we'll use the `lmplot` function. \n",
    "\n",
    "In the cell below: \n",
    "\n",
    "* Call Seaborn's `lmplot` function and pass in the following arguments:\n",
    "    * `x='total_bill'`\n",
    "    * `y='tip'`\n",
    "    * `hue='smoker'`\n",
    "    * `data= tips`"
   ]
  },
  {
   "cell_type": "code",
   "execution_count": null,
   "metadata": {},
   "outputs": [],
   "source": []
  },
  {
   "cell_type": "markdown",
   "metadata": {},
   "source": [
    "Very cool! That visualization contains _a lot_ of information, and it does it in a way that is easy to interpret and understand. Best of all, it didn't take much work on our part--all we had to do was tell the function the name of the column to use for the x axis, the name of the column to use for the y axis, and the name of the variable to condition on, as denoted by the two different colors. \n",
    "\n",
    "If we want to get even more ambitious, we can create mutiple subplots by using the `row=` and `column=` parameters, as well! \n",
    "\n",
    "Run the cell below to see an example, and see if you can figure out how the code works. "
   ]
  },
  {
   "cell_type": "code",
   "execution_count": null,
   "metadata": {},
   "outputs": [],
   "source": [
    "sns.lmplot(x=\"total_bill\", y=\"tip\", hue=\"smoker\",\n",
    "           col=\"time\", row=\"sex\", data=tips)"
   ]
  },
  {
   "cell_type": "markdown",
   "metadata": {},
   "source": [
    "## Summary\n",
    "\n",
    "In this lab, we explored the **_Seaborn_** library, and explored the sorts of data visualizations we can create with it!"
   ]
  }
 ],
 "metadata": {
  "kernelspec": {
   "display_name": "Python 3",
   "language": "python",
   "name": "python3"
  },
  "language_info": {
   "codemirror_mode": {
    "name": "ipython",
    "version": 3
   },
   "file_extension": ".py",
   "mimetype": "text/x-python",
   "name": "python",
   "nbconvert_exporter": "python",
   "pygments_lexer": "ipython3",
   "version": "3.6.6"
  }
 },
 "nbformat": 4,
 "nbformat_minor": 2
}
